{
  "nbformat": 4,
  "nbformat_minor": 0,
  "metadata": {
    "colab": {
      "name": "Action Recognition Using Mediapipe and LSTM.ipynb",
      "provenance": [],
      "collapsed_sections": []
    },
    "kernelspec": {
      "name": "python3",
      "display_name": "Python 3"
    },
    "language_info": {
      "name": "python"
    },
    "accelerator": "GPU"
  },
  "cells": [
    {
      "cell_type": "code",
      "execution_count": null,
      "metadata": {
        "colab": {
          "base_uri": "https://localhost:8080/"
        },
        "id": "d_Q-wrfiORWa",
        "outputId": "0b15d652-60fe-48fe-95f0-19720a2f3e6b"
      },
      "outputs": [
        {
          "output_type": "stream",
          "name": "stdout",
          "text": [
            "Fri Feb 25 09:32:35 2022       \n",
            "+-----------------------------------------------------------------------------+\n",
            "| NVIDIA-SMI 460.32.03    Driver Version: 460.32.03    CUDA Version: 11.2     |\n",
            "|-------------------------------+----------------------+----------------------+\n",
            "| GPU  Name        Persistence-M| Bus-Id        Disp.A | Volatile Uncorr. ECC |\n",
            "| Fan  Temp  Perf  Pwr:Usage/Cap|         Memory-Usage | GPU-Util  Compute M. |\n",
            "|                               |                      |               MIG M. |\n",
            "|===============================+======================+======================|\n",
            "|   0  Tesla T4            Off  | 00000000:00:04.0 Off |                    0 |\n",
            "| N/A   37C    P8     9W /  70W |      0MiB / 15109MiB |      0%      Default |\n",
            "|                               |                      |                  N/A |\n",
            "+-------------------------------+----------------------+----------------------+\n",
            "                                                                               \n",
            "+-----------------------------------------------------------------------------+\n",
            "| Processes:                                                                  |\n",
            "|  GPU   GI   CI        PID   Type   Process name                  GPU Memory |\n",
            "|        ID   ID                                                   Usage      |\n",
            "|=============================================================================|\n",
            "|  No running processes found                                                 |\n",
            "+-----------------------------------------------------------------------------+\n"
          ]
        }
      ],
      "source": [
        "!nvidia-smi"
      ]
    },
    {
      "cell_type": "markdown",
      "source": [
        "#Libraries"
      ],
      "metadata": {
        "id": "I1wE4tChOiLf"
      }
    },
    {
      "cell_type": "code",
      "source": [
        "import numpy as np\n",
        "import os"
      ],
      "metadata": {
        "id": "S5C2m--LOZIq"
      },
      "execution_count": null,
      "outputs": []
    },
    {
      "cell_type": "code",
      "source": [
        "x_train = np.load(os.path.join(os.getcwd(), \"x_train.npy\"))\n",
        "y_train = np.load(os.path.join(os.getcwd(), \"y_train.npy\"))\n",
        "x_test = np.load(os.path.join(os.getcwd(), \"x_test.npy\"))\n",
        "y_test = np.load(os.path.join(os.getcwd(), \"y_test.npy\"))"
      ],
      "metadata": {
        "id": "54VGqZCJOmq3"
      },
      "execution_count": null,
      "outputs": []
    },
    {
      "cell_type": "code",
      "source": [
        "x_train.shape"
      ],
      "metadata": {
        "colab": {
          "base_uri": "https://localhost:8080/"
        },
        "id": "mkJRN3KQO3aG",
        "outputId": "e71fb1ba-34af-4c37-d9e9-d2a7b9b07982"
      },
      "execution_count": null,
      "outputs": [
        {
          "output_type": "execute_result",
          "data": {
            "text/plain": [
              "(142, 30, 63)"
            ]
          },
          "metadata": {},
          "execution_count": 5
        }
      ]
    },
    {
      "cell_type": "markdown",
      "source": [
        "**Models**"
      ],
      "metadata": {
        "id": "f0IwFwHYPAiD"
      }
    },
    {
      "cell_type": "code",
      "source": [
        "import tensorflow as tf"
      ],
      "metadata": {
        "id": "L5ntM6p7O-OC"
      },
      "execution_count": null,
      "outputs": []
    },
    {
      "cell_type": "code",
      "source": [
        "inp_shape = x_train.shape[1:]\n",
        "print(inp_shape)"
      ],
      "metadata": {
        "colab": {
          "base_uri": "https://localhost:8080/"
        },
        "id": "Ymx0S85HPgjh",
        "outputId": "be318d4c-b619-4886-aac3-f8ea45933d57"
      },
      "execution_count": null,
      "outputs": [
        {
          "output_type": "stream",
          "name": "stdout",
          "text": [
            "(30, 63)\n"
          ]
        }
      ]
    },
    {
      "cell_type": "code",
      "source": [
        "out_shape = y_train.shape[-1]"
      ],
      "metadata": {
        "id": "_0nVWmvQRFW8"
      },
      "execution_count": null,
      "outputs": []
    },
    {
      "cell_type": "code",
      "source": [
        "model = tf.keras.models.Sequential()\n",
        "\n",
        "model.add(tf.keras.layers.LSTM(units=128, return_sequences=True, activation=\"relu\", kernel_initializer=\"he_uniform\", input_shape=(30, 63)))\n",
        "model.add(tf.keras.layers.Dropout(rate=0.2))\n",
        "\n",
        "model.add(tf.keras.layers.LSTM(units=128, return_sequences=True, kernel_initializer=\"he_uniform\", activation=\"relu\"))\n",
        "model.add(tf.keras.layers.Dropout(rate=0.2))\n",
        "\n",
        "model.add(tf.keras.layers.LSTM(units=128, return_sequences=False, kernel_initializer=\"he_uniform\", activation=\"relu\"))\n",
        "model.add(tf.keras.layers.Dropout(rate=0.2))\n",
        "\n",
        "model.add(tf.keras.layers.Dense(units=128, activation=\"relu\"))\n",
        "model.add(tf.keras.layers.Dropout(rate=0.2))\n",
        "\n",
        "model.add(tf.keras.layers.Dense(units=64, activation=\"relu\"))\n",
        "model.add(tf.keras.layers.Dense(units=5, activation=\"softmax\"))"
      ],
      "metadata": {
        "colab": {
          "base_uri": "https://localhost:8080/"
        },
        "id": "dBGoSsnzftDs",
        "outputId": "bac500b4-2eab-4568-fe0d-2d4853743082"
      },
      "execution_count": null,
      "outputs": [
        {
          "output_type": "stream",
          "name": "stdout",
          "text": [
            "WARNING:tensorflow:Layer lstm_3 will not use cuDNN kernels since it doesn't meet the criteria. It will use a generic GPU kernel as fallback when running on GPU.\n",
            "WARNING:tensorflow:Layer lstm_4 will not use cuDNN kernels since it doesn't meet the criteria. It will use a generic GPU kernel as fallback when running on GPU.\n",
            "WARNING:tensorflow:Layer lstm_5 will not use cuDNN kernels since it doesn't meet the criteria. It will use a generic GPU kernel as fallback when running on GPU.\n"
          ]
        }
      ]
    },
    {
      "cell_type": "code",
      "source": [
        "model.summary()"
      ],
      "metadata": {
        "colab": {
          "base_uri": "https://localhost:8080/"
        },
        "id": "w7u5PN00gomT",
        "outputId": "a8bf20b9-30b5-410f-dbac-8099fa1bef43"
      },
      "execution_count": null,
      "outputs": [
        {
          "output_type": "stream",
          "name": "stdout",
          "text": [
            "Model: \"sequential_1\"\n",
            "_________________________________________________________________\n",
            " Layer (type)                Output Shape              Param #   \n",
            "=================================================================\n",
            " lstm_3 (LSTM)               (None, 30, 128)           98304     \n",
            "                                                                 \n",
            " dropout_4 (Dropout)         (None, 30, 128)           0         \n",
            "                                                                 \n",
            " lstm_4 (LSTM)               (None, 30, 128)           131584    \n",
            "                                                                 \n",
            " dropout_5 (Dropout)         (None, 30, 128)           0         \n",
            "                                                                 \n",
            " lstm_5 (LSTM)               (None, 128)               131584    \n",
            "                                                                 \n",
            " dropout_6 (Dropout)         (None, 128)               0         \n",
            "                                                                 \n",
            " dense_3 (Dense)             (None, 128)               16512     \n",
            "                                                                 \n",
            " dropout_7 (Dropout)         (None, 128)               0         \n",
            "                                                                 \n",
            " dense_4 (Dense)             (None, 64)                8256      \n",
            "                                                                 \n",
            " dense_5 (Dense)             (None, 5)                 325       \n",
            "                                                                 \n",
            "=================================================================\n",
            "Total params: 386,565\n",
            "Trainable params: 386,565\n",
            "Non-trainable params: 0\n",
            "_________________________________________________________________\n"
          ]
        }
      ]
    },
    {
      "cell_type": "code",
      "source": [
        "checkpoint = tf.keras.callbacks.ModelCheckpoint(\"model.h5\",\n",
        "                             monitor=\"loss\",\n",
        "                             mode=\"min\",\n",
        "                             save_best_only=True,\n",
        "                             verbose = 1)\n",
        "\n",
        "earlystop = tf.keras.callbacks.EarlyStopping(monitor=\"loss\",\n",
        "                         min_delta=0,\n",
        "                         patience=8,\n",
        "                         verbose=1,\n",
        "                         restore_best_weights=True)"
      ],
      "metadata": {
        "id": "a0iGLd2KiIhP"
      },
      "execution_count": null,
      "outputs": []
    },
    {
      "cell_type": "code",
      "source": [
        "log_dir = os.path.join('Logs')\n",
        "tb_callback = tf.keras.callbacks.TensorBoard(log_dir=log_dir)"
      ],
      "metadata": {
        "id": "zrQ_b6-ARyJl"
      },
      "execution_count": null,
      "outputs": []
    },
    {
      "cell_type": "code",
      "source": [
        "model.compile(optimizer='Adam', loss='categorical_crossentropy', metrics=['accuracy'])"
      ],
      "metadata": {
        "id": "-_ee1QcBR-V0"
      },
      "execution_count": null,
      "outputs": []
    },
    {
      "cell_type": "code",
      "source": [
        "history = model.fit(x_train, y_train,\n",
        "          epochs=100, \n",
        "          callbacks=[tb_callback, earlystop, checkpoint])"
      ],
      "metadata": {
        "colab": {
          "base_uri": "https://localhost:8080/"
        },
        "id": "1INDIWiNSLH0",
        "outputId": "de7f7795-4687-419a-fe0a-0c2431eb7d98"
      },
      "execution_count": null,
      "outputs": [
        {
          "output_type": "stream",
          "name": "stdout",
          "text": [
            "Epoch 1/100\n",
            "5/5 [==============================] - ETA: 0s - loss: 1.6090 - accuracy: 0.1901\n",
            "Epoch 1: loss improved from inf to 1.60900, saving model to model.h5\n",
            "5/5 [==============================] - 5s 207ms/step - loss: 1.6090 - accuracy: 0.1901\n",
            "Epoch 2/100\n",
            "5/5 [==============================] - ETA: 0s - loss: 1.3355 - accuracy: 0.3662\n",
            "Epoch 2: loss improved from 1.60900 to 1.33548, saving model to model.h5\n",
            "5/5 [==============================] - 1s 209ms/step - loss: 1.3355 - accuracy: 0.3662\n",
            "Epoch 3/100\n",
            "5/5 [==============================] - ETA: 0s - loss: 1.0206 - accuracy: 0.5915\n",
            "Epoch 3: loss improved from 1.33548 to 1.02059, saving model to model.h5\n",
            "5/5 [==============================] - 1s 209ms/step - loss: 1.0206 - accuracy: 0.5915\n",
            "Epoch 4/100\n",
            "5/5 [==============================] - ETA: 0s - loss: 0.8857 - accuracy: 0.6620\n",
            "Epoch 4: loss improved from 1.02059 to 0.88570, saving model to model.h5\n",
            "5/5 [==============================] - 1s 201ms/step - loss: 0.8857 - accuracy: 0.6620\n",
            "Epoch 5/100\n",
            "5/5 [==============================] - ETA: 0s - loss: 1.6475 - accuracy: 0.7113\n",
            "Epoch 5: loss did not improve from 0.88570\n",
            "5/5 [==============================] - 1s 186ms/step - loss: 1.6475 - accuracy: 0.7113\n",
            "Epoch 6/100\n",
            "5/5 [==============================] - ETA: 0s - loss: 0.8039 - accuracy: 0.7394\n",
            "Epoch 6: loss improved from 0.88570 to 0.80387, saving model to model.h5\n",
            "5/5 [==============================] - 1s 207ms/step - loss: 0.8039 - accuracy: 0.7394\n",
            "Epoch 7/100\n",
            "5/5 [==============================] - ETA: 0s - loss: 0.7230 - accuracy: 0.7535\n",
            "Epoch 7: loss improved from 0.80387 to 0.72302, saving model to model.h5\n",
            "5/5 [==============================] - 1s 209ms/step - loss: 0.7230 - accuracy: 0.7535\n",
            "Epoch 8/100\n",
            "5/5 [==============================] - ETA: 0s - loss: 0.4469 - accuracy: 0.8592\n",
            "Epoch 8: loss improved from 0.72302 to 0.44693, saving model to model.h5\n",
            "5/5 [==============================] - 1s 206ms/step - loss: 0.4469 - accuracy: 0.8592\n",
            "Epoch 9/100\n",
            "5/5 [==============================] - ETA: 0s - loss: 0.8847 - accuracy: 0.8592\n",
            "Epoch 9: loss did not improve from 0.44693\n",
            "5/5 [==============================] - 1s 185ms/step - loss: 0.8847 - accuracy: 0.8592\n",
            "Epoch 10/100\n",
            "5/5 [==============================] - ETA: 0s - loss: 0.4913 - accuracy: 0.8732\n",
            "Epoch 10: loss did not improve from 0.44693\n",
            "5/5 [==============================] - 1s 192ms/step - loss: 0.4913 - accuracy: 0.8732\n",
            "Epoch 11/100\n",
            "5/5 [==============================] - ETA: 0s - loss: 0.4894 - accuracy: 0.9014\n",
            "Epoch 11: loss did not improve from 0.44693\n",
            "5/5 [==============================] - 1s 195ms/step - loss: 0.4894 - accuracy: 0.9014\n",
            "Epoch 12/100\n",
            "5/5 [==============================] - ETA: 0s - loss: 0.3274 - accuracy: 0.9296\n",
            "Epoch 12: loss improved from 0.44693 to 0.32741, saving model to model.h5\n",
            "5/5 [==============================] - 1s 209ms/step - loss: 0.3274 - accuracy: 0.9296\n",
            "Epoch 13/100\n",
            "5/5 [==============================] - ETA: 0s - loss: 0.1846 - accuracy: 0.9507\n",
            "Epoch 13: loss improved from 0.32741 to 0.18459, saving model to model.h5\n",
            "5/5 [==============================] - 1s 214ms/step - loss: 0.1846 - accuracy: 0.9507\n",
            "Epoch 14/100\n",
            "5/5 [==============================] - ETA: 0s - loss: 0.1802 - accuracy: 0.9577\n",
            "Epoch 14: loss improved from 0.18459 to 0.18016, saving model to model.h5\n",
            "5/5 [==============================] - 1s 201ms/step - loss: 0.1802 - accuracy: 0.9577\n",
            "Epoch 15/100\n",
            "5/5 [==============================] - ETA: 0s - loss: 0.1291 - accuracy: 0.9648\n",
            "Epoch 15: loss improved from 0.18016 to 0.12912, saving model to model.h5\n",
            "5/5 [==============================] - 2s 480ms/step - loss: 0.1291 - accuracy: 0.9648\n",
            "Epoch 16/100\n",
            "5/5 [==============================] - ETA: 0s - loss: 0.3562 - accuracy: 0.9437\n",
            "Epoch 16: loss did not improve from 0.12912\n",
            "5/5 [==============================] - 2s 343ms/step - loss: 0.3562 - accuracy: 0.9437\n",
            "Epoch 17/100\n",
            "5/5 [==============================] - ETA: 0s - loss: 0.1665 - accuracy: 0.9577\n",
            "Epoch 17: loss did not improve from 0.12912\n",
            "5/5 [==============================] - 1s 189ms/step - loss: 0.1665 - accuracy: 0.9577\n",
            "Epoch 18/100\n",
            "5/5 [==============================] - ETA: 0s - loss: 0.4606 - accuracy: 0.9507\n",
            "Epoch 18: loss did not improve from 0.12912\n",
            "5/5 [==============================] - 1s 191ms/step - loss: 0.4606 - accuracy: 0.9507\n",
            "Epoch 19/100\n",
            "5/5 [==============================] - ETA: 0s - loss: 0.1597 - accuracy: 0.9437\n",
            "Epoch 19: loss did not improve from 0.12912\n",
            "5/5 [==============================] - 1s 197ms/step - loss: 0.1597 - accuracy: 0.9437\n",
            "Epoch 20/100\n",
            "5/5 [==============================] - ETA: 0s - loss: 0.1508 - accuracy: 0.9648\n",
            "Epoch 20: loss did not improve from 0.12912\n",
            "5/5 [==============================] - 1s 193ms/step - loss: 0.1508 - accuracy: 0.9648\n",
            "Epoch 21/100\n",
            "5/5 [==============================] - ETA: 0s - loss: 0.0829 - accuracy: 0.9789\n",
            "Epoch 21: loss improved from 0.12912 to 0.08293, saving model to model.h5\n",
            "5/5 [==============================] - 1s 204ms/step - loss: 0.0829 - accuracy: 0.9789\n",
            "Epoch 22/100\n",
            "5/5 [==============================] - ETA: 0s - loss: 0.0549 - accuracy: 0.9859\n",
            "Epoch 22: loss improved from 0.08293 to 0.05485, saving model to model.h5\n",
            "5/5 [==============================] - 1s 195ms/step - loss: 0.0549 - accuracy: 0.9859\n",
            "Epoch 23/100\n",
            "5/5 [==============================] - ETA: 0s - loss: 0.0577 - accuracy: 0.9718\n",
            "Epoch 23: loss did not improve from 0.05485\n",
            "5/5 [==============================] - 1s 187ms/step - loss: 0.0577 - accuracy: 0.9718\n",
            "Epoch 24/100\n",
            "5/5 [==============================] - ETA: 0s - loss: 0.0460 - accuracy: 0.9789\n",
            "Epoch 24: loss improved from 0.05485 to 0.04596, saving model to model.h5\n",
            "5/5 [==============================] - 1s 216ms/step - loss: 0.0460 - accuracy: 0.9789\n",
            "Epoch 25/100\n",
            "5/5 [==============================] - ETA: 0s - loss: 0.0664 - accuracy: 0.9859\n",
            "Epoch 25: loss did not improve from 0.04596\n",
            "5/5 [==============================] - 1s 187ms/step - loss: 0.0664 - accuracy: 0.9859\n",
            "Epoch 26/100\n",
            "5/5 [==============================] - ETA: 0s - loss: 0.3590 - accuracy: 0.9718\n",
            "Epoch 26: loss did not improve from 0.04596\n",
            "5/5 [==============================] - 1s 189ms/step - loss: 0.3590 - accuracy: 0.9718\n",
            "Epoch 27/100\n",
            "5/5 [==============================] - ETA: 0s - loss: 0.1855 - accuracy: 0.9789\n",
            "Epoch 27: loss did not improve from 0.04596\n",
            "5/5 [==============================] - 1s 188ms/step - loss: 0.1855 - accuracy: 0.9789\n",
            "Epoch 28/100\n",
            "5/5 [==============================] - ETA: 0s - loss: 0.1951 - accuracy: 0.9577\n",
            "Epoch 28: loss did not improve from 0.04596\n",
            "5/5 [==============================] - 1s 189ms/step - loss: 0.1951 - accuracy: 0.9577\n",
            "Epoch 29/100\n",
            "5/5 [==============================] - ETA: 0s - loss: 0.1500 - accuracy: 0.9507\n",
            "Epoch 29: loss did not improve from 0.04596\n",
            "5/5 [==============================] - 1s 196ms/step - loss: 0.1500 - accuracy: 0.9507\n",
            "Epoch 30/100\n",
            "5/5 [==============================] - ETA: 0s - loss: 0.1053 - accuracy: 0.9718\n",
            "Epoch 30: loss did not improve from 0.04596\n",
            "5/5 [==============================] - 1s 191ms/step - loss: 0.1053 - accuracy: 0.9718\n",
            "Epoch 31/100\n",
            "5/5 [==============================] - ETA: 0s - loss: 0.1181 - accuracy: 0.9507\n",
            "Epoch 31: loss did not improve from 0.04596\n",
            "5/5 [==============================] - 1s 220ms/step - loss: 0.1181 - accuracy: 0.9507\n",
            "Epoch 32/100\n",
            "5/5 [==============================] - ETA: 0s - loss: 0.0761 - accuracy: 0.9718Restoring model weights from the end of the best epoch: 24.\n",
            "\n",
            "Epoch 32: loss did not improve from 0.04596\n",
            "5/5 [==============================] - 1s 188ms/step - loss: 0.0761 - accuracy: 0.9718\n",
            "Epoch 32: early stopping\n"
          ]
        }
      ]
    },
    {
      "cell_type": "code",
      "source": [
        "import pandas as pd\n",
        "import matplotlib.pyplot as plt\n",
        "\n",
        "pd.DataFrame(history.history).plot(figsize=(8, 5))\n",
        "plt.grid(True)\n",
        "plt.gca().set_ylim(0, 1)\n",
        "plt.show()"
      ],
      "metadata": {
        "colab": {
          "base_uri": "https://localhost:8080/",
          "height": 324
        },
        "id": "BHw3XwR8SzZA",
        "outputId": "6b1b89ff-d0ae-49bb-a66e-04c4d0bcd8ad"
      },
      "execution_count": null,
      "outputs": [
        {
          "output_type": "display_data",
          "data": {
            "image/png": "[encoded data removed]",
            "text/plain": [
              "<Figure size 576x360 with 1 Axes>"
            ]
          },
          "metadata": {
            "needs_background": "light"
          }
        }
      ]
    },
    {
      "cell_type": "code",
      "source": [
        "import tensorflow as tf\n",
        "\n",
        "lstm = tf.keras.models.load_model(\"model.h5\")"
      ],
      "metadata": {
        "colab": {
          "base_uri": "https://localhost:8080/"
        },
        "id": "lzLt8wGZdjQC",
        "outputId": "bf3cfd27-2c06-4f6b-b3b5-15bf54d7e261"
      },
      "execution_count": null,
      "outputs": [
        {
          "output_type": "stream",
          "name": "stdout",
          "text": [
            "WARNING:tensorflow:Layer lstm_3 will not use cuDNN kernels since it doesn't meet the criteria. It will use a generic GPU kernel as fallback when running on GPU.\n",
            "WARNING:tensorflow:Layer lstm_4 will not use cuDNN kernels since it doesn't meet the criteria. It will use a generic GPU kernel as fallback when running on GPU.\n",
            "WARNING:tensorflow:Layer lstm_5 will not use cuDNN kernels since it doesn't meet the criteria. It will use a generic GPU kernel as fallback when running on GPU.\n"
          ]
        }
      ]
    },
    {
      "cell_type": "code",
      "source": [
        "res = lstm.predict(x_test)"
      ],
      "metadata": {
        "id": "yPibe-5Fdu3_"
      },
      "execution_count": null,
      "outputs": []
    },
    {
      "cell_type": "code",
      "source": [
        "actions = np.array(['Up', 'Down', 'Right', 'Left', 'Stop'])"
      ],
      "metadata": {
        "id": "W1FTbf26eJmy"
      },
      "execution_count": null,
      "outputs": []
    },
    {
      "cell_type": "code",
      "source": [
        "for idx in range(8):\n",
        "  print(actions[np.argmax(y_test[idx])], actions[np.argmax(res[idx])])"
      ],
      "metadata": {
        "colab": {
          "base_uri": "https://localhost:8080/"
        },
        "id": "nlhTbMp8e0OR",
        "outputId": "011bac63-1620-4d66-b754-2b53c686a3d8"
      },
      "execution_count": null,
      "outputs": [
        {
          "output_type": "stream",
          "name": "stdout",
          "text": [
            "Right Right\n",
            "Down Down\n",
            "Up Stop\n",
            "Left Left\n",
            "Down Down\n",
            "Right Right\n",
            "Left Left\n",
            "Up Up\n"
          ]
        }
      ]
    },
    {
      "cell_type": "code",
      "source": [
        "from sklearn.metrics import multilabel_confusion_matrix, accuracy_score\n",
        "yhat = lstm.predict(x_test)\n",
        "\n",
        "ytrue = np.argmax(y_test, axis=1).tolist()\n",
        "yhat = np.argmax(yhat, axis=1).tolist()"
      ],
      "metadata": {
        "id": "uZGUBxLUvpJW"
      },
      "execution_count": null,
      "outputs": []
    },
    {
      "cell_type": "code",
      "source": [
        ""
      ],
      "metadata": {
        "id": "5AgP8HH0v2Gj"
      },
      "execution_count": null,
      "outputs": []
    },
    {
      "cell_type": "code",
      "source": [
        "accuracy_score(ytrue, yhat)"
      ],
      "metadata": {
        "id": "_6OjqtGdvv5-",
        "outputId": "7bd1caa1-c9ca-48bc-d684-93c26b54b4d7",
        "colab": {
          "base_uri": "https://localhost:8080/"
        }
      },
      "execution_count": null,
      "outputs": [
        {
          "output_type": "execute_result",
          "data": {
            "text/plain": [
              "0.875"
            ]
          },
          "metadata": {},
          "execution_count": 12
        }
      ]
    },
    {
      "cell_type": "code",
      "source": [
        "import tensorflow as tf\n",
        "\n",
        "model =tf.keras.models.load_model(\"model.h5\")\n",
        "\n",
        "converter = tf.lite.TFLiteConverter.from_keras_model(model)\n",
        "converter.optimizations = [tf.lite.Optimize.DEFAULT]\n",
        "converter.experimental_new_converter = True\n",
        "converter.target_spec.supported_ops = [tf.lite.OpsSet.TFLITE_BUILTINS, tf.lite.OpsSet.SELECT_TF_OPS]\n",
        "tflite_model = converter.convert()\n",
        "open(\"model.tflite\", \"wb\").write(tflite_model)"
      ],
      "metadata": {
        "colab": {
          "base_uri": "https://localhost:8080/"
        },
        "id": "UgCQ8vgEj1Qw",
        "outputId": "82f67486-9e5a-4639-8661-d691473a765a"
      },
      "execution_count": null,
      "outputs": [
        {
          "output_type": "stream",
          "name": "stdout",
          "text": [
            "WARNING:tensorflow:Layer lstm_3 will not use cuDNN kernels since it doesn't meet the criteria. It will use a generic GPU kernel as fallback when running on GPU.\n"
          ]
        },
        {
          "output_type": "stream",
          "name": "stderr",
          "text": [
            "WARNING:tensorflow:Layer lstm_3 will not use cuDNN kernels since it doesn't meet the criteria. It will use a generic GPU kernel as fallback when running on GPU.\n"
          ]
        },
        {
          "output_type": "stream",
          "name": "stdout",
          "text": [
            "WARNING:tensorflow:Layer lstm_4 will not use cuDNN kernels since it doesn't meet the criteria. It will use a generic GPU kernel as fallback when running on GPU.\n"
          ]
        },
        {
          "output_type": "stream",
          "name": "stderr",
          "text": [
            "WARNING:tensorflow:Layer lstm_4 will not use cuDNN kernels since it doesn't meet the criteria. It will use a generic GPU kernel as fallback when running on GPU.\n"
          ]
        },
        {
          "output_type": "stream",
          "name": "stdout",
          "text": [
            "WARNING:tensorflow:Layer lstm_5 will not use cuDNN kernels since it doesn't meet the criteria. It will use a generic GPU kernel as fallback when running on GPU.\n"
          ]
        },
        {
          "output_type": "stream",
          "name": "stderr",
          "text": [
            "WARNING:tensorflow:Layer lstm_5 will not use cuDNN kernels since it doesn't meet the criteria. It will use a generic GPU kernel as fallback when running on GPU.\n"
          ]
        },
        {
          "output_type": "stream",
          "name": "stdout",
          "text": [
            "INFO:tensorflow:Assets written to: /tmp/tmp4qdp_gid/assets\n"
          ]
        },
        {
          "output_type": "stream",
          "name": "stderr",
          "text": [
            "INFO:tensorflow:Assets written to: /tmp/tmp4qdp_gid/assets\n",
            "WARNING:absl:Buffer deduplication procedure will be skipped when flatbuffer library is not properly loaded\n"
          ]
        },
        {
          "output_type": "execute_result",
          "data": {
            "text/plain": [
              "427312"
            ]
          },
          "metadata": {},
          "execution_count": 25
        }
      ]
    },
    {
      "cell_type": "code",
      "source": [
        ""
      ],
      "metadata": {
        "id": "LDUjh_s8p0hO"
      },
      "execution_count": null,
      "outputs": []
    }
  ]
}